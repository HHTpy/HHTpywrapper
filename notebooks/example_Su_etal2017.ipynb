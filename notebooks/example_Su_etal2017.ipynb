{
 "cells": [
  {
   "cell_type": "markdown",
   "metadata": {},
   "source": [
    "# Example of reproducing HHT analysis results in Su et al. 2017\n",
    "*  Su et al. 2017: \"Tracking X-ray Spectral Modulations of Type-B Quasi-periodic Oscillations in GX 339-4 using Hilbert-Huang Transform\" (To be submitted to the Astrophysical Journal)\n",
    "* The example will be publicly available after this paper’s publication"
   ]
  }
 ],
 "metadata": {
  "kernelspec": {
   "display_name": "Python 3",
   "language": "python",
   "name": "python3"
  },
  "language_info": {
   "codemirror_mode": {
    "name": "ipython",
    "version": 3
   },
   "file_extension": ".py",
   "mimetype": "text/x-python",
   "name": "python",
   "nbconvert_exporter": "python",
   "pygments_lexer": "ipython3",
   "version": "3.6.0"
  }
 },
 "nbformat": 4,
 "nbformat_minor": 2
}
